{
 "cells": [
  {
   "cell_type": "code",
   "execution_count": 249,
   "metadata": {},
   "outputs": [],
   "source": [
    "import pandas as pd\n",
    "import matplotlib.pyplot as plt\n",
    "import numpy as np\n",
    "from sklearn import tree\n",
    "import seaborn as sns; sns.set()\n",
    "from sklearn import svm\n",
    "from sklearn.pipeline import make_pipeline\n",
    "from sklearn.preprocessing import StandardScaler\n",
    "from sklearn.svm import SVC\n",
    "from sklearn.model_selection import GridSearchCV\n",
    "from sklearn.model_selection import cross_val_score\n",
    "from sklearn.tree import DecisionTreeClassifier\n",
    "import math\n",
    "import random\n",
    "from keras import models, layers, optimizers, regularizers\n",
    "from sklearn import model_selection, preprocessing\n",
    "import tensorflow as tf\n",
    "from tqdm import tqdm"
   ]
  },
  {
   "cell_type": "markdown",
   "metadata": {},
   "source": [
    "<font size=5,font color='blue'>資料前處理"
   ]
  },
  {
   "cell_type": "code",
   "execution_count": 278,
   "metadata": {},
   "outputs": [
    {
     "data": {
      "text/html": [
       "<div>\n",
       "<style scoped>\n",
       "    .dataframe tbody tr th:only-of-type {\n",
       "        vertical-align: middle;\n",
       "    }\n",
       "\n",
       "    .dataframe tbody tr th {\n",
       "        vertical-align: top;\n",
       "    }\n",
       "\n",
       "    .dataframe thead th {\n",
       "        text-align: right;\n",
       "    }\n",
       "</style>\n",
       "<table border=\"1\" class=\"dataframe\">\n",
       "  <thead>\n",
       "    <tr style=\"text-align: right;\">\n",
       "      <th></th>\n",
       "      <th>PassengerId</th>\n",
       "      <th>Survived</th>\n",
       "      <th>Pclass</th>\n",
       "      <th>Name</th>\n",
       "      <th>Sex</th>\n",
       "      <th>Age</th>\n",
       "      <th>SibSp</th>\n",
       "      <th>Parch</th>\n",
       "      <th>Ticket</th>\n",
       "      <th>Fare</th>\n",
       "      <th>Cabin</th>\n",
       "      <th>Embarked</th>\n",
       "    </tr>\n",
       "  </thead>\n",
       "  <tbody>\n",
       "    <tr>\n",
       "      <th>0</th>\n",
       "      <td>1</td>\n",
       "      <td>0</td>\n",
       "      <td>3</td>\n",
       "      <td>Braund, Mr. Owen Harris</td>\n",
       "      <td>male</td>\n",
       "      <td>22.0</td>\n",
       "      <td>1</td>\n",
       "      <td>0</td>\n",
       "      <td>A/5 21171</td>\n",
       "      <td>7.2500</td>\n",
       "      <td>NaN</td>\n",
       "      <td>S</td>\n",
       "    </tr>\n",
       "    <tr>\n",
       "      <th>1</th>\n",
       "      <td>2</td>\n",
       "      <td>1</td>\n",
       "      <td>1</td>\n",
       "      <td>Cumings, Mrs. John Bradley (Florence Briggs Th...</td>\n",
       "      <td>female</td>\n",
       "      <td>38.0</td>\n",
       "      <td>1</td>\n",
       "      <td>0</td>\n",
       "      <td>PC 17599</td>\n",
       "      <td>71.2833</td>\n",
       "      <td>C85</td>\n",
       "      <td>C</td>\n",
       "    </tr>\n",
       "    <tr>\n",
       "      <th>2</th>\n",
       "      <td>3</td>\n",
       "      <td>1</td>\n",
       "      <td>3</td>\n",
       "      <td>Heikkinen, Miss. Laina</td>\n",
       "      <td>female</td>\n",
       "      <td>26.0</td>\n",
       "      <td>0</td>\n",
       "      <td>0</td>\n",
       "      <td>STON/O2. 3101282</td>\n",
       "      <td>7.9250</td>\n",
       "      <td>NaN</td>\n",
       "      <td>S</td>\n",
       "    </tr>\n",
       "    <tr>\n",
       "      <th>3</th>\n",
       "      <td>4</td>\n",
       "      <td>1</td>\n",
       "      <td>1</td>\n",
       "      <td>Futrelle, Mrs. Jacques Heath (Lily May Peel)</td>\n",
       "      <td>female</td>\n",
       "      <td>35.0</td>\n",
       "      <td>1</td>\n",
       "      <td>0</td>\n",
       "      <td>113803</td>\n",
       "      <td>53.1000</td>\n",
       "      <td>C123</td>\n",
       "      <td>S</td>\n",
       "    </tr>\n",
       "    <tr>\n",
       "      <th>4</th>\n",
       "      <td>5</td>\n",
       "      <td>0</td>\n",
       "      <td>3</td>\n",
       "      <td>Allen, Mr. William Henry</td>\n",
       "      <td>male</td>\n",
       "      <td>35.0</td>\n",
       "      <td>0</td>\n",
       "      <td>0</td>\n",
       "      <td>373450</td>\n",
       "      <td>8.0500</td>\n",
       "      <td>NaN</td>\n",
       "      <td>S</td>\n",
       "    </tr>\n",
       "  </tbody>\n",
       "</table>\n",
       "</div>"
      ],
      "text/plain": [
       "   PassengerId  Survived  Pclass  \\\n",
       "0            1         0       3   \n",
       "1            2         1       1   \n",
       "2            3         1       3   \n",
       "3            4         1       1   \n",
       "4            5         0       3   \n",
       "\n",
       "                                                Name     Sex   Age  SibSp  \\\n",
       "0                            Braund, Mr. Owen Harris    male  22.0      1   \n",
       "1  Cumings, Mrs. John Bradley (Florence Briggs Th...  female  38.0      1   \n",
       "2                             Heikkinen, Miss. Laina  female  26.0      0   \n",
       "3       Futrelle, Mrs. Jacques Heath (Lily May Peel)  female  35.0      1   \n",
       "4                           Allen, Mr. William Henry    male  35.0      0   \n",
       "\n",
       "   Parch            Ticket     Fare Cabin Embarked  \n",
       "0      0         A/5 21171   7.2500   NaN        S  \n",
       "1      0          PC 17599  71.2833   C85        C  \n",
       "2      0  STON/O2. 3101282   7.9250   NaN        S  \n",
       "3      0            113803  53.1000  C123        S  \n",
       "4      0            373450   8.0500   NaN        S  "
      ]
     },
     "execution_count": 278,
     "metadata": {},
     "output_type": "execute_result"
    }
   ],
   "source": [
    "df_train = pd.read_csv('./train.csv')#讀資料\n",
    "df_train.head()"
   ]
  },
  {
   "cell_type": "code",
   "execution_count": 279,
   "metadata": {},
   "outputs": [],
   "source": [
    "#刪除不必要的資料\n",
    "df_train = df_train.drop('PassengerId', axis = 1)\n",
    "df_train = df_train.drop('Name', axis = 1)\n",
    "df_train = df_train.drop('Ticket', axis = 1)\n",
    "df_train = df_train.drop('Cabin', axis = 1)"
   ]
  },
  {
   "cell_type": "code",
   "execution_count": 280,
   "metadata": {},
   "outputs": [
    {
     "data": {
      "text/plain": [
       "0    549\n",
       "1    342\n",
       "Name: Survived, dtype: int64"
      ]
     },
     "execution_count": 280,
     "metadata": {},
     "output_type": "execute_result"
    }
   ],
   "source": [
    "df_train['Survived'].value_counts()#計算存活人數"
   ]
  },
  {
   "cell_type": "code",
   "execution_count": 281,
   "metadata": {},
   "outputs": [
    {
     "data": {
      "text/plain": [
       "Survived      0\n",
       "Pclass        0\n",
       "Sex           0\n",
       "Age         177\n",
       "SibSp         0\n",
       "Parch         0\n",
       "Fare          0\n",
       "Embarked      2\n",
       "dtype: int64"
      ]
     },
     "execution_count": 281,
     "metadata": {},
     "output_type": "execute_result"
    }
   ],
   "source": [
    "df_train.isnull().sum()#計算各欄位中出有NaN的數量"
   ]
  },
  {
   "cell_type": "code",
   "execution_count": 282,
   "metadata": {},
   "outputs": [],
   "source": [
    "#用平均值來取代NaN\n",
    "age = df_train['Age']\n",
    "avgage = age.sum(axis = 0, skipna = True) /len(age)\n",
    "df_train['Age'].fillna(avgage, inplace = True)\n",
    "\n",
    "avgembrk= df_train['Embarked'].dropna().mode()[0]\n",
    "df_train['Embarked'] = df_train['Embarked'].fillna(avgembrk)\n",
    "df_train['Embarked'] = df_train['Embarked'].map( {'S': 0, 'C': 1, 'Q': 2} ).astype(int)"
   ]
  },
  {
   "cell_type": "code",
   "execution_count": 283,
   "metadata": {},
   "outputs": [
    {
     "data": {
      "text/plain": [
       "Survived    0\n",
       "Pclass      0\n",
       "Sex         0\n",
       "Age         0\n",
       "SibSp       0\n",
       "Parch       0\n",
       "Fare        0\n",
       "Embarked    0\n",
       "dtype: int64"
      ]
     },
     "execution_count": 283,
     "metadata": {},
     "output_type": "execute_result"
    }
   ],
   "source": [
    "df_train.isnull().sum()"
   ]
  },
  {
   "cell_type": "code",
   "execution_count": 284,
   "metadata": {},
   "outputs": [],
   "source": [
    "sex_map = {'male' : 0, 'female' :1}#在性別的部分將字串輸出成數字\n",
    "df_train['Sex'] =df_train['Sex'].map(sex_map)"
   ]
  },
  {
   "cell_type": "code",
   "execution_count": 285,
   "metadata": {},
   "outputs": [],
   "source": [
    "#從train裡面隨機挑選30%的數據當作test\n",
    "n_test = int(math.ceil(len(df_train) * 0.3))\n",
    "random.seed(42)\n",
    "test_ixs = random.sample(list(range(len(df_train))), n_test)\n",
    "train_ixs = [ix for ix in range(len(df_train)) if ix not in test_ixs]\n",
    "train = df_train.iloc[train_ixs, :]\n",
    "test = df_train.iloc[test_ixs, :]"
   ]
  },
  {
   "cell_type": "markdown",
   "metadata": {},
   "source": [
    "<font size=5,font color='blue'>SVM"
   ]
  },
  {
   "cell_type": "code",
   "execution_count": 286,
   "metadata": {},
   "outputs": [
    {
     "name": "stdout",
     "output_type": "stream",
     "text": [
      "0.8283582089552238\n"
     ]
    }
   ],
   "source": [
    "features = ['Parch','Age','SibSp','Sex']\n",
    "response = 'Survived'\n",
    "x_train = train[features]\n",
    "y_train = train[response]\n",
    "x_test = test[features]\n",
    "y_test = test[response]\n",
    "\n",
    "best_acc = 0.\n",
    "best_c = None\n",
    "for c in np.linspace(0.1, 50.0):\n",
    "    model = svm.SVC(C=c, gamma='scale')\n",
    "    model.fit(x_train, y_train)\n",
    "    y_pred = model.predict(x_test)\n",
    "    acc = np.mean(y_pred == y_test)\n",
    "    if acc > best_acc:\n",
    "        best_acc = acc\n",
    "        best_c = c\n",
    "print(best_acc)"
   ]
  },
  {
   "cell_type": "markdown",
   "metadata": {},
   "source": [
    "<font size=5,font color='blue'>NN"
   ]
  },
  {
   "cell_type": "code",
   "execution_count": 287,
   "metadata": {},
   "outputs": [],
   "source": [
    "hidden_units = 8   \n",
    "activation = 'relu'  \n",
    "l2 = 0.001           \n",
    "learning_rate = 0.1  \n",
    "epochs = 20          \n",
    "batch_size = 20"
   ]
  },
  {
   "cell_type": "code",
   "execution_count": 288,
   "metadata": {},
   "outputs": [],
   "source": [
    "model = models.Sequential()\n",
    "model.add(layers.Dense(input_dim=4,\n",
    "                       units=hidden_units, \n",
    "                       activation=activation))\n",
    "model.add(layers.Dense(input_dim=hidden_units,\n",
    "                       units=1,\n",
    "                       activation='sigmoid'))\n",
    "model.compile(loss='binary_crossentropy',\n",
    "              # Adam is a kind of gradient descent\n",
    "              optimizer=optimizers.Adam(lr=learning_rate),\n",
    "              metrics=['accuracy'])"
   ]
  },
  {
   "cell_type": "code",
   "execution_count": 289,
   "metadata": {},
   "outputs": [
    {
     "name": "stdout",
     "output_type": "stream",
     "text": [
      "Epoch 1/10\n",
      "623/623 [==============================] - ETA: 45s - loss: 3.9891 - acc: 0.45 - ETA: 0s - loss: 1.3173 - acc: 0.5478 - 2s 3ms/step - loss: 1.1388 - acc: 0.5939\n",
      "Epoch 2/10\n",
      "623/623 [==============================] - ETA: 0s - loss: 0.6549 - acc: 0.600 - ETA: 0s - loss: 0.5585 - acc: 0.747 - 0s 141us/step - loss: 0.5664 - acc: 0.7544\n",
      "Epoch 3/10\n",
      "623/623 [==============================] - ETA: 0s - loss: 0.5144 - acc: 0.800 - ETA: 0s - loss: 0.5521 - acc: 0.785 - 0s 148us/step - loss: 0.5547 - acc: 0.7801\n",
      "Epoch 4/10\n",
      "623/623 [==============================] - ETA: 0s - loss: 0.6152 - acc: 0.700 - ETA: 0s - loss: 0.5291 - acc: 0.772 - 0s 141us/step - loss: 0.5239 - acc: 0.7769\n",
      "Epoch 5/10\n",
      "623/623 [==============================] - ETA: 0s - loss: 0.5085 - acc: 0.850 - ETA: 0s - loss: 0.5032 - acc: 0.797 - 0s 109us/step - loss: 0.5301 - acc: 0.7801\n",
      "Epoch 6/10\n",
      "623/623 [==============================] - ETA: 0s - loss: 0.4972 - acc: 0.800 - ETA: 0s - loss: 0.5337 - acc: 0.782 - 0s 96us/step - loss: 0.5322 - acc: 0.7833\n",
      "Epoch 7/10\n",
      "623/623 [==============================] - ETA: 0s - loss: 0.5854 - acc: 0.750 - ETA: 0s - loss: 0.5288 - acc: 0.771 - 0s 96us/step - loss: 0.5267 - acc: 0.7721\n",
      "Epoch 8/10\n",
      "623/623 [==============================] - ETA: 0s - loss: 0.6675 - acc: 0.800 - ETA: 0s - loss: 0.5409 - acc: 0.775 - 0s 103us/step - loss: 0.5370 - acc: 0.7801\n",
      "Epoch 9/10\n",
      "623/623 [==============================] - ETA: 0s - loss: 0.2664 - acc: 0.950 - ETA: 0s - loss: 0.5098 - acc: 0.803 - 0s 103us/step - loss: 0.5244 - acc: 0.7929\n",
      "Epoch 10/10\n",
      "623/623 [==============================] - ETA: 0s - loss: 0.4960 - acc: 0.900 - ETA: 0s - loss: 0.5304 - acc: 0.777 - 0s 103us/step - loss: 0.5294 - acc: 0.7785\n",
      "623/623 [==============================] - ETA:  - 0s 533us/step\n",
      "268/268 [==============================] - ETA:  - 0s 45us/step\n",
      "Training accuracy: 0.7913322635293963\n",
      "Testing accuracy: 0.8059701483641097\n"
     ]
    }
   ],
   "source": [
    "history = model.fit(x_train, y_train, epochs=10, batch_size=batch_size)\n",
    "train_acc = model.evaluate(x_train, y_train, batch_size=32)[1]\n",
    "test_acc = model.evaluate(x_test, y_test, batch_size=32)[1]\n",
    "print('Training accuracy: %s' % train_acc)\n",
    "print('Testing accuracy: %s' % test_acc)"
   ]
  },
  {
   "cell_type": "code",
   "execution_count": 290,
   "metadata": {},
   "outputs": [],
   "source": [
    "def train_and_evaluate(model, x_train, y_train, x_test, y_test, n=50):\n",
    "    train_accs = []\n",
    "    test_accs = []\n",
    "    with tqdm(total=n) as progress_bar:\n",
    "        for _ in range(n):\n",
    "            model.fit(\n",
    "                x_train, \n",
    "                y_train, \n",
    "                epochs=epochs, \n",
    "                batch_size=batch_size,\n",
    "                verbose=False)\n",
    "            train_accs.append(model.evaluate(x_train, y_train, batch_size=32, verbose=False)[1])\n",
    "            test_accs.append(model.evaluate(x_test, y_test, batch_size=32, verbose=False)[1])\n",
    "            progress_bar.update()\n",
    "    print('Avgerage Training Accuracy: %s' % np.average(train_accs))\n",
    "    print('Avgerage Testing Accuracy: %s' % np.average(test_accs))\n",
    "    return train_accs, test_accs"
   ]
  },
  {
   "cell_type": "code",
   "execution_count": 291,
   "metadata": {},
   "outputs": [
    {
     "name": "stderr",
     "output_type": "stream",
     "text": [
      "100%|██████████████████████████████████████████| 50/50 [00:45<00:00,  1.31it/s]\n"
     ]
    },
    {
     "name": "stdout",
     "output_type": "stream",
     "text": [
      "Avgerage Training Accuracy: 0.7678009633344404\n",
      "Avgerage Testing Accuracy: 0.7895522381120655\n"
     ]
    }
   ],
   "source": [
    "_, test_accs = train_and_evaluate(model, x_train, y_train, x_test, y_test)"
   ]
  },
  {
   "cell_type": "markdown",
   "metadata": {},
   "source": [
    "<font size=5,font color='blue'>Decision Tree"
   ]
  },
  {
   "cell_type": "code",
   "execution_count": 292,
   "metadata": {},
   "outputs": [],
   "source": [
    "#從train裡面隨機挑選30%的數據當作test\n",
    "n_test = int(math.ceil(len(df_train) * 0.3))\n",
    "random.seed(42)\n",
    "test_ixs = random.sample(list(range(len(df_train))), n_test)\n",
    "train_ixs = [ix for ix in range(len(df_train)) if ix not in test_ixs]\n",
    "train = df_train.iloc[train_ixs, :]\n",
    "test = df_train.iloc[test_ixs, :]"
   ]
  },
  {
   "cell_type": "code",
   "execution_count": 293,
   "metadata": {},
   "outputs": [],
   "source": [
    "y =train['Survived'].values\n",
    "train= train.drop('Survived', 1)\n",
    "dtree=tree.DecisionTreeClassifier(max_depth=5)\n",
    "dtree=dtree.fit(train,y)"
   ]
  },
  {
   "cell_type": "code",
   "execution_count": 294,
   "metadata": {},
   "outputs": [],
   "source": [
    "y_test = test['Survived'].values\n",
    "X_test = test.drop('Survived', 1)\n",
    "\n",
    "y_predict = dtree.predict(X_test)"
   ]
  },
  {
   "cell_type": "code",
   "execution_count": 295,
   "metadata": {
    "scrolled": true
   },
   "outputs": [
    {
     "data": {
      "text/plain": [
       "0.8059701492537313"
      ]
     },
     "execution_count": 295,
     "metadata": {},
     "output_type": "execute_result"
    }
   ],
   "source": [
    "from sklearn.metrics import accuracy_score\n",
    "\n",
    "accuracy_score(y_test, y_predict)"
   ]
  },
  {
   "cell_type": "markdown",
   "metadata": {},
   "source": [
    "<font size=5,font color='blue'>Random Forest"
   ]
  },
  {
   "cell_type": "code",
   "execution_count": 296,
   "metadata": {},
   "outputs": [],
   "source": [
    "from sklearn.ensemble import RandomForestClassifier"
   ]
  },
  {
   "cell_type": "code",
   "execution_count": 297,
   "metadata": {},
   "outputs": [],
   "source": [
    "#從train裡面隨機挑選30%的數據當作test\n",
    "n_test = int(math.ceil(len(df_train) * 0.3))\n",
    "random.seed(42)\n",
    "test_ixs = random.sample(list(range(len(df_train))), n_test)\n",
    "train_ixs = [ix for ix in range(len(df_train)) if ix not in test_ixs]\n",
    "train = df_train.iloc[train_ixs, :]\n",
    "test = df_train.iloc[test_ixs, :]"
   ]
  },
  {
   "cell_type": "code",
   "execution_count": 298,
   "metadata": {},
   "outputs": [
    {
     "data": {
      "text/plain": [
       "RandomForestClassifier(bootstrap=True, class_weight=None, criterion='gini',\n",
       "            max_depth=4, max_features='auto', max_leaf_nodes=None,\n",
       "            min_impurity_decrease=0.0, min_impurity_split=None,\n",
       "            min_samples_leaf=1, min_samples_split=2,\n",
       "            min_weight_fraction_leaf=0.0, n_estimators=1000, n_jobs=None,\n",
       "            oob_score=False, random_state=None, verbose=0,\n",
       "            warm_start=False)"
      ]
     },
     "execution_count": 298,
     "metadata": {},
     "output_type": "execute_result"
    }
   ],
   "source": [
    "y =train['Survived'].values\n",
    "train= train.drop('Survived', 1)\n",
    "clf = RandomForestClassifier(bootstrap=True, n_estimators=1000, max_depth=4)\n",
    "clf.fit(train, y)  "
   ]
  },
  {
   "cell_type": "code",
   "execution_count": 299,
   "metadata": {},
   "outputs": [
    {
     "data": {
      "text/plain": [
       "0.8395522388059702"
      ]
     },
     "execution_count": 299,
     "metadata": {},
     "output_type": "execute_result"
    }
   ],
   "source": [
    "y_predict = clf.predict(X_test)\n",
    "accuracy_score(y_test, y_predict)"
   ]
  },
  {
   "cell_type": "markdown",
   "metadata": {},
   "source": [
    "<font size=5,font color='blue'>Parameters"
   ]
  },
  {
   "cell_type": "code",
   "execution_count": 300,
   "metadata": {},
   "outputs": [],
   "source": [
    "from sklearn import model_selection, metrics"
   ]
  },
  {
   "cell_type": "code",
   "execution_count": 301,
   "metadata": {},
   "outputs": [],
   "source": [
    "def scorer(model, X, y):\n",
    "    preds = model.predict(X)\n",
    "    return metrics.accuracy_score(y, preds)"
   ]
  },
  {
   "cell_type": "code",
   "execution_count": 302,
   "metadata": {},
   "outputs": [],
   "source": [
    "n_estimators = [1, 3, 5, 19, 23, 34, 73, 100,198]\n",
    "cv_results = []\n",
    "\n",
    "for estimator in n_estimators:\n",
    "    rf = RandomForestClassifier(n_estimators=estimator)\n",
    "    acc = model_selection.cross_val_score(rf, train, y, cv=10, scoring=scorer)\n",
    "    cv_results.append(acc.mean())"
   ]
  },
  {
   "cell_type": "code",
   "execution_count": 303,
   "metadata": {},
   "outputs": [
    {
     "data": {
      "image/png": "[encoded data removed]",
      "text/plain": [
       "<Figure size 432x288 with 1 Axes>"
      ]
     },
     "metadata": {},
     "output_type": "display_data"
    }
   ],
   "source": [
    "line1= plt.plot(n_estimators, cv_results, 'b', label=\"cross validated accuracy\")\n",
    "plt.ylabel('accuracy')\n",
    "plt.xlabel('n_estimators')\n",
    "plt.legend()\n",
    "plt.show()"
   ]
  },
  {
   "cell_type": "code",
   "execution_count": 304,
   "metadata": {},
   "outputs": [
    {
     "name": "stdout",
     "output_type": "stream",
     "text": [
      "best_n_estimators:  34\n",
      "best accuracy:  0.8124356811294939\n"
     ]
    }
   ],
   "source": [
    "best_n_estimators = n_estimators[cv_results.index(max(cv_results))]\n",
    "print (\"best_n_estimators: \", best_n_estimators)\n",
    "print (\"best accuracy: \", max(cv_results))"
   ]
  },
  {
   "cell_type": "code",
   "execution_count": 305,
   "metadata": {},
   "outputs": [],
   "source": [
    "cv_results = []\n",
    "max_depths = np.linspace(1, 32, 32, endpoint=True)\n",
    "for max_depth in max_depths:\n",
    "    rf = RandomForestClassifier(n_estimators = best_n_estimators, max_depth=max_depth)\n",
    "    acc = model_selection.cross_val_score(rf, train, y, cv=10, scoring=scorer)\n",
    "    cv_results.append(acc.mean())"
   ]
  },
  {
   "cell_type": "code",
   "execution_count": 306,
   "metadata": {},
   "outputs": [
    {
     "data": {
      "image/png": "[encoded data removed]",
      "text/plain": [
       "<Figure size 432x288 with 1 Axes>"
      ]
     },
     "metadata": {},
     "output_type": "display_data"
    }
   ],
   "source": [
    "line1= plt.plot(max_depths, cv_results, 'b', label=\"cross validated accuracy\")\n",
    "plt.ylabel('accuracy')\n",
    "plt.xlabel('max_depths')\n",
    "plt.legend()\n",
    "plt.show()"
   ]
  },
  {
   "cell_type": "code",
   "execution_count": 307,
   "metadata": {},
   "outputs": [
    {
     "name": "stdout",
     "output_type": "stream",
     "text": [
      "best_max_depths: 9.0\n",
      "best accuracy:  0.8316889526831357\n"
     ]
    }
   ],
   "source": [
    "best_max_depths = max_depths[cv_results.index(max(cv_results))]\n",
    "print (\"best_max_depths:\", best_max_depths)\n",
    "print (\"best accuracy: \", max(cv_results))"
   ]
  },
  {
   "cell_type": "code",
   "execution_count": 308,
   "metadata": {},
   "outputs": [],
   "source": [
    "cv_results = []\n",
    "min_samples_splits = [2,3,5,10,20,30,40,50,60,70,80] \n",
    "for min_samples_split in min_samples_splits:\n",
    "    rf = RandomForestClassifier(n_estimators = best_n_estimators, max_depth=best_max_depths,min_samples_split=min_samples_split)\n",
    "    acc = model_selection.cross_val_score(rf, train, y, cv=10, scoring=scorer)\n",
    "    cv_results.append(acc.mean())"
   ]
  },
  {
   "cell_type": "code",
   "execution_count": 309,
   "metadata": {},
   "outputs": [
    {
     "data": {
      "image/png": "[encoded data removed]",
      "text/plain": [
       "<Figure size 432x288 with 1 Axes>"
      ]
     },
     "metadata": {},
     "output_type": "display_data"
    }
   ],
   "source": [
    "line1= plt.plot(min_samples_splits, cv_results, 'b', label=\"cross validated accuracy\")\n",
    "plt.ylabel('accuracy')\n",
    "plt.xlabel('min_samples_splits')\n",
    "plt.legend()\n",
    "plt.show()"
   ]
  },
  {
   "cell_type": "code",
   "execution_count": 310,
   "metadata": {},
   "outputs": [
    {
     "name": "stdout",
     "output_type": "stream",
     "text": [
      "best_min_samples_splits:  2\n",
      "best accuracy 0.8380373196343582\n"
     ]
    }
   ],
   "source": [
    "best_min_samples_splits = min_samples_splits[cv_results.index(max(cv_results))]\n",
    "print (\"best_min_samples_splits: \", best_min_samples_splits)\n",
    "print (\"best accuracy\", max(cv_results))"
   ]
  },
  {
   "cell_type": "code",
   "execution_count": 311,
   "metadata": {},
   "outputs": [],
   "source": [
    "cv_results = []\n",
    "min_samples_leafs = range(1,7)  \n",
    "for min_samples_leaf in min_samples_leafs:\n",
    "    rf = RandomForestClassifier(n_estimators = best_n_estimators, max_depth=best_max_depths,min_samples_split=best_min_samples_splits,\n",
    "                              min_samples_leaf=min_samples_leaf)\n",
    "    acc = model_selection.cross_val_score(rf, train, y, cv=10, scoring=scorer)\n",
    "    cv_results.append(acc.mean())"
   ]
  },
  {
   "cell_type": "code",
   "execution_count": 312,
   "metadata": {},
   "outputs": [
    {
     "data": {
      "image/png": "[encoded data removed]",
      "text/plain": [
       "<Figure size 432x288 with 1 Axes>"
      ]
     },
     "metadata": {},
     "output_type": "display_data"
    }
   ],
   "source": [
    "line1= plt.plot(min_samples_leafs, cv_results, 'b', label=\"cross validated accuracy\")\n",
    "plt.ylabel('accuracy')\n",
    "plt.xlabel('min_samples_leafs')\n",
    "plt.legend()\n",
    "plt.show()"
   ]
  },
  {
   "cell_type": "code",
   "execution_count": 313,
   "metadata": {},
   "outputs": [
    {
     "name": "stdout",
     "output_type": "stream",
     "text": [
      "best_min_samples_leafs:  1\n",
      "best accuracy 0.8331994493549226\n"
     ]
    }
   ],
   "source": [
    "best_min_samples_leafs =min_samples_leafs[cv_results.index(max(cv_results))]\n",
    "print (\"best_min_samples_leafs: \", best_min_samples_leafs)\n",
    "print (\"best accuracy\", max(cv_results))"
   ]
  },
  {
   "cell_type": "code",
   "execution_count": 314,
   "metadata": {},
   "outputs": [],
   "source": [
    "n_features=len(test.columns)\n",
    "cv_results = []\n",
    "max_features = range(1,n_features+1)\n",
    "for max_feature in max_features:\n",
    "    rf = RandomForestClassifier(n_estimators = best_n_estimators, max_depth=best_max_depths,min_samples_split=best_min_samples_splits,\n",
    "                              min_samples_leaf=best_min_samples_leafs)\n",
    "    acc = model_selection.cross_val_score(rf, train, y, cv=10, scoring=scorer)\n",
    "    cv_results.append(acc.mean())"
   ]
  },
  {
   "cell_type": "code",
   "execution_count": 315,
   "metadata": {},
   "outputs": [
    {
     "data": {
      "image/png": "[encoded data removed]",
      "text/plain": [
       "<Figure size 432x288 with 1 Axes>"
      ]
     },
     "metadata": {},
     "output_type": "display_data"
    }
   ],
   "source": [
    "line1= plt.plot(max_features, cv_results, 'b', label=\"cross validated accuracy\")\n",
    "plt.ylabel('accuracy')\n",
    "plt.xlabel('max_features')\n",
    "plt.legend()\n",
    "plt.show()"
   ]
  },
  {
   "cell_type": "code",
   "execution_count": 316,
   "metadata": {},
   "outputs": [
    {
     "name": "stdout",
     "output_type": "stream",
     "text": [
      "best_max_features:  6\n",
      "best accuracy 0.8365029001200339\n"
     ]
    }
   ],
   "source": [
    "best_max_features =max_features[cv_results.index(max(cv_results))]\n",
    "print (\"best_max_features: \", best_max_features)\n",
    "print (\"best accuracy\", max(cv_results))"
   ]
  },
  {
   "cell_type": "code",
   "execution_count": 317,
   "metadata": {},
   "outputs": [
    {
     "name": "stdout",
     "output_type": "stream",
     "text": [
      "Training acc: 0.9373996789727127\n",
      "Testing acc: 0.8246268656716418\n"
     ]
    }
   ],
   "source": [
    "rf = RandomForestClassifier(n_estimators = best_n_estimators, max_depth=best_max_depths,min_samples_split=best_min_samples_splits,\n",
    "                           min_samples_leaf=best_min_samples_leafs,max_features=0.01)\n",
    "rf.fit(train, y)\n",
    "train_pred = rf.predict(train)\n",
    "print (\"Training acc:\", accuracy_score(y, train_pred))\n",
    "y_pred = rf.predict(X_test)\n",
    "\n",
    "print (\"Testing acc:\", accuracy_score(y_test, y_pred))"
   ]
  },
  {
   "cell_type": "markdown",
   "metadata": {},
   "source": [
    "<font size=5,font color='blue'>Dataset簡介:"
   ]
  },
  {
   "cell_type": "markdown",
   "metadata": {},
   "source": [
    "<font size=3,font color='red'>這邊Data主要是當時鐵達尼號事件中存歿乘客的各項資訊，包含乘客名單及其家屬人數、年齡、搭乘艙別等。主要是想利用這些Data來建立存活乘客與資訊的關聯性，並把關聯性套用在測試資訊上，檢驗其預測性。"
   ]
  },
  {
   "cell_type": "markdown",
   "metadata": {},
   "source": [
    "<font size=5,font color='blue'>結果觀察與分析:"
   ]
  },
  {
   "cell_type": "markdown",
   "metadata": {},
   "source": [
    "<font size=3,font color='red'>由Decision tree跟Random forest兩者所輸出的accuracy比較可知，Random forest所輸出的通常會比較高，是由於Decision tree的feature是可以人為調控的，根據每個人所挑選的feature不同而不同，因此輸出的accuracy不一定會比較高；而Random forest採用隨機的方式在各限制條件下找尋accuracy的最高值，並把對應的限制條件之最佳解input到建模裡面，再輸出綜合最大的accuracy，簡而言之就是電腦幫你找到並輸出最佳解，因此Random forest所輸出的accuracy通常會比較高。"
   ]
  },
  {
   "cell_type": "markdown",
   "metadata": {},
   "source": [
    "<font size=5,font color='blue'>對這堂課的建議與希望學到的東西"
   ]
  },
  {
   "cell_type": "markdown",
   "metadata": {},
   "source": [
    "<font size=3,font color='red'>希望開課的限制條件可以加上學過python的學生才可以選課，不過在課堂上真的學到蠻多東西的，包含AI與機器學習的差別、監督式學習及非監督式學習、Decision tree跟Random forest的差別等。非常推薦學過python及熟悉其相關套件函式的同學來修這門課。"
   ]
  }
 ],
 "metadata": {
  "kernelspec": {
   "display_name": "Python 3",
   "language": "python",
   "name": "python3"
  },
  "language_info": {
   "codemirror_mode": {
    "name": "ipython",
    "version": 3
   },
   "file_extension": ".py",
   "mimetype": "text/x-python",
   "name": "python",
   "nbconvert_exporter": "python",
   "pygments_lexer": "ipython3",
   "version": "3.7.3"
  }
 },
 "nbformat": 4,
 "nbformat_minor": 2
}
