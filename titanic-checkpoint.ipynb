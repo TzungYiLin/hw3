{
 "cells": [
  {
   "cell_type": "code",
   "execution_count": 662,
   "metadata": {},
   "outputs": [],
   "source": [
    "import pandas as pd\n",
    "import matplotlib.pyplot as plt\n",
    "import numpy as np\n",
    "from sklearn import tree\n",
    "import seaborn as sns; sns.set()\n",
    "from sklearn import svm\n",
    "from sklearn.pipeline import make_pipeline\n",
    "from sklearn.preprocessing import StandardScaler\n",
    "from sklearn.svm import SVC\n",
    "from sklearn.model_selection import GridSearchCV\n",
    "from sklearn.model_selection import cross_val_score\n",
    "from sklearn.tree import DecisionTreeClassifier\n",
    "import math\n",
    "import random"
   ]
  },
  {
   "cell_type": "markdown",
   "metadata": {},
   "source": [
    "<font size=5,font color='blue'>資料前處理"
   ]
  },
  {
   "cell_type": "code",
   "execution_count": 663,
   "metadata": {},
   "outputs": [
    {
     "data": {
      "text/html": [
       "<div>\n",
       "<style scoped>\n",
       "    .dataframe tbody tr th:only-of-type {\n",
       "        vertical-align: middle;\n",
       "    }\n",
       "\n",
       "    .dataframe tbody tr th {\n",
       "        vertical-align: top;\n",
       "    }\n",
       "\n",
       "    .dataframe thead th {\n",
       "        text-align: right;\n",
       "    }\n",
       "</style>\n",
       "<table border=\"1\" class=\"dataframe\">\n",
       "  <thead>\n",
       "    <tr style=\"text-align: right;\">\n",
       "      <th></th>\n",
       "      <th>PassengerId</th>\n",
       "      <th>Survived</th>\n",
       "      <th>Pclass</th>\n",
       "      <th>Name</th>\n",
       "      <th>Sex</th>\n",
       "      <th>Age</th>\n",
       "      <th>SibSp</th>\n",
       "      <th>Parch</th>\n",
       "      <th>Ticket</th>\n",
       "      <th>Fare</th>\n",
       "      <th>Cabin</th>\n",
       "      <th>Embarked</th>\n",
       "    </tr>\n",
       "  </thead>\n",
       "  <tbody>\n",
       "    <tr>\n",
       "      <th>0</th>\n",
       "      <td>1</td>\n",
       "      <td>0</td>\n",
       "      <td>3</td>\n",
       "      <td>Braund, Mr. Owen Harris</td>\n",
       "      <td>male</td>\n",
       "      <td>22.0</td>\n",
       "      <td>1</td>\n",
       "      <td>0</td>\n",
       "      <td>A/5 21171</td>\n",
       "      <td>7.2500</td>\n",
       "      <td>NaN</td>\n",
       "      <td>S</td>\n",
       "    </tr>\n",
       "    <tr>\n",
       "      <th>1</th>\n",
       "      <td>2</td>\n",
       "      <td>1</td>\n",
       "      <td>1</td>\n",
       "      <td>Cumings, Mrs. John Bradley (Florence Briggs Th...</td>\n",
       "      <td>female</td>\n",
       "      <td>38.0</td>\n",
       "      <td>1</td>\n",
       "      <td>0</td>\n",
       "      <td>PC 17599</td>\n",
       "      <td>71.2833</td>\n",
       "      <td>C85</td>\n",
       "      <td>C</td>\n",
       "    </tr>\n",
       "    <tr>\n",
       "      <th>2</th>\n",
       "      <td>3</td>\n",
       "      <td>1</td>\n",
       "      <td>3</td>\n",
       "      <td>Heikkinen, Miss. Laina</td>\n",
       "      <td>female</td>\n",
       "      <td>26.0</td>\n",
       "      <td>0</td>\n",
       "      <td>0</td>\n",
       "      <td>STON/O2. 3101282</td>\n",
       "      <td>7.9250</td>\n",
       "      <td>NaN</td>\n",
       "      <td>S</td>\n",
       "    </tr>\n",
       "    <tr>\n",
       "      <th>3</th>\n",
       "      <td>4</td>\n",
       "      <td>1</td>\n",
       "      <td>1</td>\n",
       "      <td>Futrelle, Mrs. Jacques Heath (Lily May Peel)</td>\n",
       "      <td>female</td>\n",
       "      <td>35.0</td>\n",
       "      <td>1</td>\n",
       "      <td>0</td>\n",
       "      <td>113803</td>\n",
       "      <td>53.1000</td>\n",
       "      <td>C123</td>\n",
       "      <td>S</td>\n",
       "    </tr>\n",
       "    <tr>\n",
       "      <th>4</th>\n",
       "      <td>5</td>\n",
       "      <td>0</td>\n",
       "      <td>3</td>\n",
       "      <td>Allen, Mr. William Henry</td>\n",
       "      <td>male</td>\n",
       "      <td>35.0</td>\n",
       "      <td>0</td>\n",
       "      <td>0</td>\n",
       "      <td>373450</td>\n",
       "      <td>8.0500</td>\n",
       "      <td>NaN</td>\n",
       "      <td>S</td>\n",
       "    </tr>\n",
       "  </tbody>\n",
       "</table>\n",
       "</div>"
      ],
      "text/plain": [
       "   PassengerId  Survived  Pclass  \\\n",
       "0            1         0       3   \n",
       "1            2         1       1   \n",
       "2            3         1       3   \n",
       "3            4         1       1   \n",
       "4            5         0       3   \n",
       "\n",
       "                                                Name     Sex   Age  SibSp  \\\n",
       "0                            Braund, Mr. Owen Harris    male  22.0      1   \n",
       "1  Cumings, Mrs. John Bradley (Florence Briggs Th...  female  38.0      1   \n",
       "2                             Heikkinen, Miss. Laina  female  26.0      0   \n",
       "3       Futrelle, Mrs. Jacques Heath (Lily May Peel)  female  35.0      1   \n",
       "4                           Allen, Mr. William Henry    male  35.0      0   \n",
       "\n",
       "   Parch            Ticket     Fare Cabin Embarked  \n",
       "0      0         A/5 21171   7.2500   NaN        S  \n",
       "1      0          PC 17599  71.2833   C85        C  \n",
       "2      0  STON/O2. 3101282   7.9250   NaN        S  \n",
       "3      0            113803  53.1000  C123        S  \n",
       "4      0            373450   8.0500   NaN        S  "
      ]
     },
     "execution_count": 663,
     "metadata": {},
     "output_type": "execute_result"
    }
   ],
   "source": [
    "df_train = pd.read_csv('./train.csv')#讀資料\n",
    "df_train.head()"
   ]
  },
  {
   "cell_type": "code",
   "execution_count": 664,
   "metadata": {},
   "outputs": [],
   "source": [
    "#刪除不必要的資料\n",
    "df_train = df_train.drop('PassengerId', axis = 1)\n",
    "df_train = df_train.drop('Name', axis = 1)\n",
    "df_train = df_train.drop('Ticket', axis = 1)\n",
    "df_train = df_train.drop('Cabin', axis = 1)"
   ]
  },
  {
   "cell_type": "code",
   "execution_count": 665,
   "metadata": {},
   "outputs": [
    {
     "data": {
      "text/plain": [
       "0    549\n",
       "1    342\n",
       "Name: Survived, dtype: int64"
      ]
     },
     "execution_count": 665,
     "metadata": {},
     "output_type": "execute_result"
    }
   ],
   "source": [
    "df_train['Survived'].value_counts()#計算存活人數"
   ]
  },
  {
   "cell_type": "code",
   "execution_count": 666,
   "metadata": {},
   "outputs": [
    {
     "data": {
      "text/plain": [
       "Survived      0\n",
       "Pclass        0\n",
       "Sex           0\n",
       "Age         177\n",
       "SibSp         0\n",
       "Parch         0\n",
       "Fare          0\n",
       "Embarked      2\n",
       "dtype: int64"
      ]
     },
     "execution_count": 666,
     "metadata": {},
     "output_type": "execute_result"
    }
   ],
   "source": [
    "df_train.isnull().sum()#計算各欄位中出有NaN的數量"
   ]
  },
  {
   "cell_type": "code",
   "execution_count": 667,
   "metadata": {},
   "outputs": [],
   "source": [
    "#用平均值來取代NaN\n",
    "age = df_train['Age']\n",
    "avgage = age.sum(axis = 0, skipna = True) /len(age)\n",
    "df_train['Age'].fillna(avgage, inplace = True)\n",
    "\n",
    "avgembrk= df_train['Embarked'].dropna().mode()[0]\n",
    "df_train['Embarked'] = df_train['Embarked'].fillna(avgembrk)\n",
    "df_test['Embarked'] = df_test['Embarked'].fillna(avgembrk)\n",
    "df_train['Embarked'] = df_train['Embarked'].map( {'S': 0, 'C': 1, 'Q': 2} ).astype(int)\n",
    "df_test['Embarked'] = df_test['Embarked'].map( {'S': 0, 'C': 1, 'Q': 2} ).astype(int)"
   ]
  },
  {
   "cell_type": "code",
   "execution_count": 668,
   "metadata": {},
   "outputs": [
    {
     "data": {
      "text/plain": [
       "Survived    0\n",
       "Pclass      0\n",
       "Sex         0\n",
       "Age         0\n",
       "SibSp       0\n",
       "Parch       0\n",
       "Fare        0\n",
       "Embarked    0\n",
       "dtype: int64"
      ]
     },
     "execution_count": 668,
     "metadata": {},
     "output_type": "execute_result"
    }
   ],
   "source": [
    "df_train.isnull().sum()"
   ]
  },
  {
   "cell_type": "code",
   "execution_count": 669,
   "metadata": {},
   "outputs": [],
   "source": [
    "sex_map = {'male' : 0, 'female' :1}#在性別的部分將字串輸出成數字\n",
    "df_train['Sex'] = df_train['Sex'].map(sex_map)"
   ]
  },
  {
   "cell_type": "code",
   "execution_count": 670,
   "metadata": {},
   "outputs": [],
   "source": [
    "#從train裡面隨機挑選30%的數據當作test\n",
    "n_test = int(math.ceil(len(df_train) * 0.3))\n",
    "random.seed(42)\n",
    "test_ixs = random.sample(list(range(len(df_train))), n_test)\n",
    "train_ixs = [ix for ix in range(len(df_train)) if ix not in test_ixs]\n",
    "train = df_train.iloc[train_ixs, :]\n",
    "test = df_train.iloc[test_ixs, :]"
   ]
  },
  {
   "cell_type": "markdown",
   "metadata": {},
   "source": [
    "<font size=5,font color='blue'>SVM"
   ]
  },
  {
   "cell_type": "code",
   "execution_count": 671,
   "metadata": {},
   "outputs": [
    {
     "name": "stdout",
     "output_type": "stream",
     "text": [
      "0.8097014925373134\n"
     ]
    }
   ],
   "source": [
    "features = ['Pclass','Age','Fare','Sex']\n",
    "response = 'Survived'\n",
    "x_train = train[features]\n",
    "y_train = train[response]\n",
    "x_test = test[features]\n",
    "y_test = test[response]\n",
    "\n",
    "best_acc = 0.\n",
    "best_c = None\n",
    "for c in np.linspace(0.1, 50.0):\n",
    "    model = svm.SVC(C=c, gamma='scale')\n",
    "    model.fit(x_train, y_train)\n",
    "    y_pred = model.predict(x_test)\n",
    "    acc = np.mean(y_pred == y_test)\n",
    "    if acc > best_acc:\n",
    "        best_acc = acc\n",
    "        best_c = c\n",
    "print(best_acc)"
   ]
  },
  {
   "cell_type": "markdown",
   "metadata": {},
   "source": [
    "<font size=5,font color='blue'>Decision Tree"
   ]
  },
  {
   "cell_type": "code",
   "execution_count": 672,
   "metadata": {},
   "outputs": [],
   "source": [
    "#從train裡面隨機挑選30%的數據當作test\n",
    "n_test = int(math.ceil(len(df_train) * 0.3))\n",
    "random.seed(42)\n",
    "test_ixs = random.sample(list(range(len(df_train))), n_test)\n",
    "train_ixs = [ix for ix in range(len(df_train)) if ix not in test_ixs]\n",
    "train = df_train.iloc[train_ixs, :]\n",
    "test = df_train.iloc[test_ixs, :]"
   ]
  },
  {
   "cell_type": "code",
   "execution_count": 673,
   "metadata": {},
   "outputs": [],
   "source": [
    "y =train['Survived'].values\n",
    "train= train.drop('Survived', 1)\n",
    "dtree=tree.DecisionTreeClassifier(max_depth=5)\n",
    "dtree=dtree.fit(train,y)"
   ]
  },
  {
   "cell_type": "code",
   "execution_count": 618,
   "metadata": {},
   "outputs": [],
   "source": [
    "y_test = test['Survived'].values\n",
    "X_test = test.drop('Survived', 1)\n",
    "\n",
    "y_predict = dtree.predict(X_test)"
   ]
  },
  {
   "cell_type": "code",
   "execution_count": 619,
   "metadata": {
    "scrolled": true
   },
   "outputs": [
    {
     "data": {
      "text/plain": [
       "0.8059701492537313"
      ]
     },
     "execution_count": 619,
     "metadata": {},
     "output_type": "execute_result"
    }
   ],
   "source": [
    "from sklearn.metrics import accuracy_score\n",
    "\n",
    "accuracy_score(y_test, y_predict)"
   ]
  },
  {
   "cell_type": "markdown",
   "metadata": {},
   "source": [
    "<font size=5,font color='blue'>Random Forest"
   ]
  },
  {
   "cell_type": "code",
   "execution_count": 620,
   "metadata": {},
   "outputs": [],
   "source": [
    "from sklearn.ensemble import RandomForestClassifier"
   ]
  },
  {
   "cell_type": "code",
   "execution_count": 621,
   "metadata": {},
   "outputs": [],
   "source": [
    "#從train裡面隨機挑選30%的數據當作test\n",
    "n_test = int(math.ceil(len(df_train) * 0.3))\n",
    "random.seed(42)\n",
    "test_ixs = random.sample(list(range(len(df_train))), n_test)\n",
    "train_ixs = [ix for ix in range(len(df_train)) if ix not in test_ixs]\n",
    "train = df_train.iloc[train_ixs, :]\n",
    "test = df_train.iloc[test_ixs, :]"
   ]
  },
  {
   "cell_type": "code",
   "execution_count": 622,
   "metadata": {},
   "outputs": [
    {
     "data": {
      "text/plain": [
       "RandomForestClassifier(bootstrap=True, class_weight=None, criterion='gini',\n",
       "            max_depth=4, max_features='auto', max_leaf_nodes=None,\n",
       "            min_impurity_decrease=0.0, min_impurity_split=None,\n",
       "            min_samples_leaf=1, min_samples_split=2,\n",
       "            min_weight_fraction_leaf=0.0, n_estimators=1000, n_jobs=None,\n",
       "            oob_score=False, random_state=None, verbose=0,\n",
       "            warm_start=False)"
      ]
     },
     "execution_count": 622,
     "metadata": {},
     "output_type": "execute_result"
    }
   ],
   "source": [
    "y =train['Survived'].values\n",
    "train= train.drop('Survived', 1)\n",
    "clf = RandomForestClassifier(bootstrap=True, n_estimators=1000, max_depth=4)\n",
    "clf.fit(train, y)  "
   ]
  },
  {
   "cell_type": "code",
   "execution_count": 623,
   "metadata": {},
   "outputs": [
    {
     "data": {
      "text/plain": [
       "0.832089552238806"
      ]
     },
     "execution_count": 623,
     "metadata": {},
     "output_type": "execute_result"
    }
   ],
   "source": [
    "y_predict = clf.predict(X_test)\n",
    "accuracy_score(y_test, y_predict)"
   ]
  },
  {
   "cell_type": "markdown",
   "metadata": {},
   "source": [
    "<font size=5,font color='blue'>Parameters"
   ]
  },
  {
   "cell_type": "code",
   "execution_count": 628,
   "metadata": {},
   "outputs": [],
   "source": [
    "from sklearn import model_selection, metrics"
   ]
  },
  {
   "cell_type": "code",
   "execution_count": 629,
   "metadata": {},
   "outputs": [],
   "source": [
    "def scorer(model, X, y):\n",
    "    preds = model.predict(X)\n",
    "    return metrics.accuracy_score(y, preds)"
   ]
  },
  {
   "cell_type": "code",
   "execution_count": 630,
   "metadata": {},
   "outputs": [],
   "source": [
    "n_estimators = [1, 3, 5, 19, 23, 34, 73, 100,198]\n",
    "cv_results = []\n",
    "\n",
    "for estimator in n_estimators:\n",
    "    rf = RandomForestClassifier(n_estimators=estimator)\n",
    "    acc = model_selection.cross_val_score(rf, train, y, cv=10, scoring=scorer)\n",
    "    cv_results.append(acc.mean())"
   ]
  },
  {
   "cell_type": "code",
   "execution_count": 631,
   "metadata": {},
   "outputs": [
    {
     "data": {
      "image/png": "[encoded data removed]",
      "text/plain": [
       "<Figure size 432x288 with 1 Axes>"
      ]
     },
     "metadata": {},
     "output_type": "display_data"
    }
   ],
   "source": [
    "line1= plt.plot(n_estimators, cv_results, 'b', label=\"cross validated accuracy\")\n",
    "plt.ylabel('accuracy')\n",
    "plt.xlabel('n_estimators')\n",
    "plt.legend()\n",
    "plt.show()"
   ]
  },
  {
   "cell_type": "code",
   "execution_count": 632,
   "metadata": {},
   "outputs": [
    {
     "name": "stdout",
     "output_type": "stream",
     "text": [
      "best_n_estimators:  73\n",
      "best accuracy:  0.8091842730393763\n"
     ]
    }
   ],
   "source": [
    "best_n_estimators = n_estimators[cv_results.index(max(cv_results))]\n",
    "print (\"best_n_estimators: \", best_n_estimators)\n",
    "print (\"best accuracy: \", max(cv_results))"
   ]
  },
  {
   "cell_type": "code",
   "execution_count": 633,
   "metadata": {},
   "outputs": [],
   "source": [
    "cv_results = []\n",
    "max_depths = np.linspace(1, 32, 32, endpoint=True)\n",
    "for max_depth in max_depths:\n",
    "    rf = RandomForestClassifier(n_estimators = best_n_estimators, max_depth=max_depth)\n",
    "    acc = model_selection.cross_val_score(rf, train, y, cv=10, scoring=scorer)\n",
    "    cv_results.append(acc.mean())"
   ]
  },
  {
   "cell_type": "code",
   "execution_count": 634,
   "metadata": {},
   "outputs": [
    {
     "data": {
      "image/png": "[encoded data removed]",
      "text/plain": [
       "<Figure size 432x288 with 1 Axes>"
      ]
     },
     "metadata": {},
     "output_type": "display_data"
    }
   ],
   "source": [
    "line1= plt.plot(max_depths, cv_results, 'b', label=\"cross validated accuracy\")\n",
    "plt.ylabel('accuracy')\n",
    "plt.xlabel('max_depths')\n",
    "plt.legend()\n",
    "plt.show()"
   ]
  },
  {
   "cell_type": "code",
   "execution_count": 635,
   "metadata": {},
   "outputs": [
    {
     "name": "stdout",
     "output_type": "stream",
     "text": [
      "best_max_depths: 10.0\n",
      "best accuracy:  0.8301024904938178\n"
     ]
    }
   ],
   "source": [
    "best_max_depths = max_depths[cv_results.index(max(cv_results))]\n",
    "print (\"best_max_depths:\", best_max_depths)\n",
    "print (\"best accuracy: \", max(cv_results))"
   ]
  },
  {
   "cell_type": "code",
   "execution_count": 636,
   "metadata": {},
   "outputs": [],
   "source": [
    "cv_results = []\n",
    "min_samples_splits = [2,3,5,10,20,30,40,50,60,70,80] \n",
    "for min_samples_split in min_samples_splits:\n",
    "    rf = RandomForestClassifier(n_estimators = best_n_estimators, max_depth=best_max_depths,min_samples_split=min_samples_split)\n",
    "    acc = model_selection.cross_val_score(rf, train, y, cv=10, scoring=scorer)\n",
    "    cv_results.append(acc.mean())"
   ]
  },
  {
   "cell_type": "code",
   "execution_count": 637,
   "metadata": {},
   "outputs": [
    {
     "data": {
      "image/png": "[encoded data removed]",
      "text/plain": [
       "<Figure size 432x288 with 1 Axes>"
      ]
     },
     "metadata": {},
     "output_type": "display_data"
    }
   ],
   "source": [
    "line1= plt.plot(min_samples_splits, cv_results, 'b', label=\"cross validated accuracy\")\n",
    "plt.ylabel('accuracy')\n",
    "plt.xlabel('min_samples_splits')\n",
    "plt.legend()\n",
    "plt.show()"
   ]
  },
  {
   "cell_type": "code",
   "execution_count": 638,
   "metadata": {},
   "outputs": [
    {
     "name": "stdout",
     "output_type": "stream",
     "text": [
      "best_min_samples_splits:  10\n",
      "best accuracy 0.8331482460779128\n"
     ]
    }
   ],
   "source": [
    "best_min_samples_splits = min_samples_splits[cv_results.index(max(cv_results))]\n",
    "print (\"best_min_samples_splits: \", best_min_samples_splits)\n",
    "print (\"best accuracy\", max(cv_results))"
   ]
  },
  {
   "cell_type": "code",
   "execution_count": 639,
   "metadata": {},
   "outputs": [],
   "source": [
    "cv_results = []\n",
    "min_samples_leafs = range(1,7)  \n",
    "for min_samples_leaf in min_samples_leafs:\n",
    "    rf = RandomForestClassifier(n_estimators = best_n_estimators, max_depth=best_max_depths,min_samples_split=best_min_samples_splits,\n",
    "                              min_samples_leaf=min_samples_leaf)\n",
    "    acc = model_selection.cross_val_score(rf, train, y, cv=10, scoring=scorer)\n",
    "    cv_results.append(acc.mean())"
   ]
  },
  {
   "cell_type": "code",
   "execution_count": 640,
   "metadata": {},
   "outputs": [
    {
     "data": {
      "image/png": "[encoded data removed]",
      "text/plain": [
       "<Figure size 432x288 with 1 Axes>"
      ]
     },
     "metadata": {},
     "output_type": "display_data"
    }
   ],
   "source": [
    "line1= plt.plot(min_samples_leafs, cv_results, 'b', label=\"cross validated accuracy\")\n",
    "plt.ylabel('accuracy')\n",
    "plt.xlabel('min_samples_leafs')\n",
    "plt.legend()\n",
    "plt.show()"
   ]
  },
  {
   "cell_type": "code",
   "execution_count": 641,
   "metadata": {},
   "outputs": [
    {
     "name": "stdout",
     "output_type": "stream",
     "text": [
      "best_min_samples_leafs:  4\n",
      "best accuracy 0.8251332544299228\n"
     ]
    }
   ],
   "source": [
    "best_min_samples_leafs =min_samples_leafs[cv_results.index(max(cv_results))]\n",
    "print (\"best_min_samples_leafs: \", best_min_samples_leafs)\n",
    "print (\"best accuracy\", max(cv_results))"
   ]
  },
  {
   "cell_type": "code",
   "execution_count": 642,
   "metadata": {},
   "outputs": [],
   "source": [
    "n_features=len(df_test.columns)\n",
    "cv_results = []\n",
    "max_features = range(1,n_features+1)\n",
    "for max_feature in max_features:\n",
    "    rf = RandomForestClassifier(n_estimators = best_n_estimators, max_depth=best_max_depths,min_samples_split=best_min_samples_splits,\n",
    "                              min_samples_leaf=best_min_samples_leafs)\n",
    "    acc = model_selection.cross_val_score(rf, train, y, cv=10, scoring=scorer)\n",
    "    cv_results.append(acc.mean())"
   ]
  },
  {
   "cell_type": "code",
   "execution_count": 643,
   "metadata": {},
   "outputs": [
    {
     "data": {
      "image/png": "[encoded data removed]",
      "text/plain": [
       "<Figure size 432x288 with 1 Axes>"
      ]
     },
     "metadata": {},
     "output_type": "display_data"
    }
   ],
   "source": [
    "line1= plt.plot(max_features, cv_results, 'b', label=\"cross validated accuracy\")\n",
    "plt.ylabel('accuracy')\n",
    "plt.xlabel('max_features')\n",
    "plt.legend()\n",
    "plt.show()"
   ]
  },
  {
   "cell_type": "code",
   "execution_count": 644,
   "metadata": {},
   "outputs": [
    {
     "name": "stdout",
     "output_type": "stream",
     "text": [
      "best_max_features:  8\n",
      "best accuracy 0.8283342986410146\n"
     ]
    }
   ],
   "source": [
    "best_max_features =max_features[cv_results.index(max(cv_results))]\n",
    "print (\"best_max_features: \", best_max_features)\n",
    "print (\"best accuracy\", max(cv_results))"
   ]
  },
  {
   "cell_type": "code",
   "execution_count": 677,
   "metadata": {},
   "outputs": [
    {
     "name": "stdout",
     "output_type": "stream",
     "text": [
      "Training acc: 0.8731942215088283\n",
      "Testing acc: 0.8246268656716418\n"
     ]
    }
   ],
   "source": [
    "rf = RandomForestClassifier(n_estimators = best_n_estimators, max_depth=best_max_depths,min_samples_split=best_min_samples_splits,\n",
    "                           min_samples_leaf=best_min_samples_leafs,max_features=0.01)\n",
    "rf.fit(train, y)\n",
    "train_pred = rf.predict(train)\n",
    "print (\"Training acc:\", accuracy_score(y, train_pred))\n",
    "y_pred = rf.predict(X_test)\n",
    "\n",
    "print (\"Testing acc:\", accuracy_score(y_test, y_pred))"
   ]
  },
  {
   "cell_type": "markdown",
   "metadata": {},
   "source": [
    "<font size=5,font color='blue'>Dataset簡介:"
   ]
  },
  {
   "cell_type": "markdown",
   "metadata": {},
   "source": [
    "<font size=3,font color='red'>這邊Data主要是當時鐵達尼號事件中存歿乘客的各項資訊，包含乘客名單及其家屬人數、年齡、搭乘艙別等。主要是想利用這些Data來建立存活乘客與資訊的關聯性，並把關聯性套用在測試資訊上，檢驗其預測性。"
   ]
  },
  {
   "cell_type": "markdown",
   "metadata": {},
   "source": [
    "<font size=5,font color='blue'>結果觀察與分析:"
   ]
  },
  {
   "cell_type": "markdown",
   "metadata": {},
   "source": [
    "<font size=3,font color='red'>由Decision tree跟Random forest兩者所輸出的accuracy比較可知，Random forest所輸出的通常會比較高，是由於Decision tree的feature是可以人為調控的，根據每個人所挑選的feature不同而不同，因此輸出的accuracy不一定會比較高；而Random forest採用隨機的方式在各限制條件下找尋accuracy的最高值，並把對應的限制條件之最佳解input到建模裡面，再輸出綜合最大的accuracy，簡而言之就是電腦幫你找到並輸出最佳解，因此Random forest所輸出的accuracy通常會比較高。"
   ]
  },
  {
   "cell_type": "markdown",
   "metadata": {},
   "source": [
    "<font size=5,font color='blue'>對這堂課的建議與希望學到的東西"
   ]
  },
  {
   "cell_type": "markdown",
   "metadata": {},
   "source": [
    "<font size=3,font color='red'>希望開課的限制條件可以加上學過python的學生才可以選課，不過在課堂上真的學到蠻多東西的，包含AI與機器學習的差別、監督式學習及非監督式學習、Decision tree跟Random forest的差別等。非常推薦學過python及熟悉其相關套件函式的同學來修這門課。"
   ]
  }
 ],
 "metadata": {
  "kernelspec": {
   "display_name": "Python 3",
   "language": "python",
   "name": "python3"
  },
  "language_info": {
   "codemirror_mode": {
    "name": "ipython",
    "version": 3
   },
   "file_extension": ".py",
   "mimetype": "text/x-python",
   "name": "python",
   "nbconvert_exporter": "python",
   "pygments_lexer": "ipython3",
   "version": "3.7.3"
  }
 },
 "nbformat": 4,
 "nbformat_minor": 2
}
